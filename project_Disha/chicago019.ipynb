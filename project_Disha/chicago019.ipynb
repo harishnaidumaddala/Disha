{
 "cells": [
  {
   "cell_type": "code",
   "execution_count": 1,
   "metadata": {},
   "outputs": [],
   "source": [
    "import numpy as np\n",
    "import pandas as pd"
   ]
  },
  {
   "cell_type": "code",
   "execution_count": 2,
   "metadata": {},
   "outputs": [],
   "source": [
    "crime=pd.read_csv('chicago2019.csv')"
   ]
  },
  {
   "cell_type": "code",
   "execution_count": 3,
   "metadata": {},
   "outputs": [
    {
     "data": {
      "text/html": [
       "<div>\n",
       "<style scoped>\n",
       "    .dataframe tbody tr th:only-of-type {\n",
       "        vertical-align: middle;\n",
       "    }\n",
       "\n",
       "    .dataframe tbody tr th {\n",
       "        vertical-align: top;\n",
       "    }\n",
       "\n",
       "    .dataframe thead th {\n",
       "        text-align: right;\n",
       "    }\n",
       "</style>\n",
       "<table border=\"1\" class=\"dataframe\">\n",
       "  <thead>\n",
       "    <tr style=\"text-align: right;\">\n",
       "      <th></th>\n",
       "      <th>ID</th>\n",
       "      <th>Case Number</th>\n",
       "      <th>Date</th>\n",
       "      <th>Block</th>\n",
       "      <th>IUCR</th>\n",
       "      <th>Primary Type</th>\n",
       "      <th>Description</th>\n",
       "      <th>Location Description</th>\n",
       "      <th>Arrest</th>\n",
       "      <th>Domestic</th>\n",
       "      <th>...</th>\n",
       "      <th>Ward</th>\n",
       "      <th>Community Area</th>\n",
       "      <th>FBI Code</th>\n",
       "      <th>X Coordinate</th>\n",
       "      <th>Y Coordinate</th>\n",
       "      <th>Year</th>\n",
       "      <th>Updated On</th>\n",
       "      <th>Latitude</th>\n",
       "      <th>Longitude</th>\n",
       "      <th>Location</th>\n",
       "    </tr>\n",
       "  </thead>\n",
       "  <tbody>\n",
       "    <tr>\n",
       "      <th>0</th>\n",
       "      <td>11922265</td>\n",
       "      <td>JC547678</td>\n",
       "      <td>12/15/2019 01:00:00 AM</td>\n",
       "      <td>019XX N MILWAUKEE AVE</td>\n",
       "      <td>0890</td>\n",
       "      <td>THEFT</td>\n",
       "      <td>FROM BUILDING</td>\n",
       "      <td>RESIDENCE PORCH/HALLWAY</td>\n",
       "      <td>False</td>\n",
       "      <td>False</td>\n",
       "      <td>...</td>\n",
       "      <td>32.0</td>\n",
       "      <td>22.0</td>\n",
       "      <td>06</td>\n",
       "      <td>1160251.0</td>\n",
       "      <td>1912770.0</td>\n",
       "      <td>2019</td>\n",
       "      <td>12/22/2019 03:49:01 PM</td>\n",
       "      <td>41.916346</td>\n",
       "      <td>-87.686673</td>\n",
       "      <td>(41.916346321, -87.686672835)</td>\n",
       "    </tr>\n",
       "    <tr>\n",
       "      <th>1</th>\n",
       "      <td>11922566</td>\n",
       "      <td>JC547878</td>\n",
       "      <td>12/15/2019 02:00:00 PM</td>\n",
       "      <td>001XX W 111TH PL</td>\n",
       "      <td>0486</td>\n",
       "      <td>BATTERY</td>\n",
       "      <td>DOMESTIC BATTERY SIMPLE</td>\n",
       "      <td>RESIDENCE</td>\n",
       "      <td>False</td>\n",
       "      <td>True</td>\n",
       "      <td>...</td>\n",
       "      <td>34.0</td>\n",
       "      <td>49.0</td>\n",
       "      <td>08B</td>\n",
       "      <td>1177270.0</td>\n",
       "      <td>1831016.0</td>\n",
       "      <td>2019</td>\n",
       "      <td>12/22/2019 03:49:01 PM</td>\n",
       "      <td>41.691637</td>\n",
       "      <td>-87.626616</td>\n",
       "      <td>(41.691636628, -87.62661592)</td>\n",
       "    </tr>\n",
       "    <tr>\n",
       "      <th>2</th>\n",
       "      <td>11926493</td>\n",
       "      <td>JC551726</td>\n",
       "      <td>11/14/2019 04:00:00 PM</td>\n",
       "      <td>100XX W OHARE ST</td>\n",
       "      <td>1150</td>\n",
       "      <td>DECEPTIVE PRACTICE</td>\n",
       "      <td>CREDIT CARD FRAUD</td>\n",
       "      <td>AIRPORT BUILDING NON-TERMINAL - NON-SECURE AREA</td>\n",
       "      <td>False</td>\n",
       "      <td>False</td>\n",
       "      <td>...</td>\n",
       "      <td>41.0</td>\n",
       "      <td>76.0</td>\n",
       "      <td>11</td>\n",
       "      <td>1100658.0</td>\n",
       "      <td>1934241.0</td>\n",
       "      <td>2019</td>\n",
       "      <td>12/22/2019 03:47:12 PM</td>\n",
       "      <td>41.976290</td>\n",
       "      <td>-87.905227</td>\n",
       "      <td>(41.976290414, -87.905227221)</td>\n",
       "    </tr>\n",
       "    <tr>\n",
       "      <th>3</th>\n",
       "      <td>11922870</td>\n",
       "      <td>JC548346</td>\n",
       "      <td>12/15/2019 10:16:00 PM</td>\n",
       "      <td>030XX W HARRISON ST</td>\n",
       "      <td>143A</td>\n",
       "      <td>WEAPONS VIOLATION</td>\n",
       "      <td>UNLAWFUL POSS OF HANDGUN</td>\n",
       "      <td>STREET</td>\n",
       "      <td>True</td>\n",
       "      <td>False</td>\n",
       "      <td>...</td>\n",
       "      <td>28.0</td>\n",
       "      <td>27.0</td>\n",
       "      <td>15</td>\n",
       "      <td>1156295.0</td>\n",
       "      <td>1897213.0</td>\n",
       "      <td>2019</td>\n",
       "      <td>12/22/2019 03:49:01 PM</td>\n",
       "      <td>41.873737</td>\n",
       "      <td>-87.701628</td>\n",
       "      <td>(41.873737423, -87.701627875)</td>\n",
       "    </tr>\n",
       "    <tr>\n",
       "      <th>4</th>\n",
       "      <td>11923260</td>\n",
       "      <td>JC548773</td>\n",
       "      <td>12/15/2019 06:04:00 AM</td>\n",
       "      <td>029XX N SPAULDING AVE</td>\n",
       "      <td>1320</td>\n",
       "      <td>CRIMINAL DAMAGE</td>\n",
       "      <td>TO VEHICLE</td>\n",
       "      <td>STREET</td>\n",
       "      <td>False</td>\n",
       "      <td>False</td>\n",
       "      <td>...</td>\n",
       "      <td>35.0</td>\n",
       "      <td>21.0</td>\n",
       "      <td>14</td>\n",
       "      <td>1153876.0</td>\n",
       "      <td>1919268.0</td>\n",
       "      <td>2019</td>\n",
       "      <td>12/22/2019 03:49:01 PM</td>\n",
       "      <td>41.934307</td>\n",
       "      <td>-87.709921</td>\n",
       "      <td>(41.934306876, -87.709920843)</td>\n",
       "    </tr>\n",
       "    <tr>\n",
       "      <th>5</th>\n",
       "      <td>11923679</td>\n",
       "      <td>JC549341</td>\n",
       "      <td>12/15/2019 02:00:00 AM</td>\n",
       "      <td>080XX S WESTERN AVE</td>\n",
       "      <td>0486</td>\n",
       "      <td>BATTERY</td>\n",
       "      <td>DOMESTIC BATTERY SIMPLE</td>\n",
       "      <td>OTHER</td>\n",
       "      <td>False</td>\n",
       "      <td>True</td>\n",
       "      <td>...</td>\n",
       "      <td>18.0</td>\n",
       "      <td>70.0</td>\n",
       "      <td>08B</td>\n",
       "      <td>1161778.0</td>\n",
       "      <td>1851102.0</td>\n",
       "      <td>2019</td>\n",
       "      <td>12/22/2019 03:49:01 PM</td>\n",
       "      <td>41.747091</td>\n",
       "      <td>-87.682778</td>\n",
       "      <td>(41.747090733, -87.68277849)</td>\n",
       "    </tr>\n",
       "    <tr>\n",
       "      <th>6</th>\n",
       "      <td>11928257</td>\n",
       "      <td>JC555133</td>\n",
       "      <td>12/04/2019 02:00:00 PM</td>\n",
       "      <td>033XX S ASHLAND AVE</td>\n",
       "      <td>0820</td>\n",
       "      <td>THEFT</td>\n",
       "      <td>$500 AND UNDER</td>\n",
       "      <td>RESIDENCE</td>\n",
       "      <td>False</td>\n",
       "      <td>False</td>\n",
       "      <td>...</td>\n",
       "      <td>12.0</td>\n",
       "      <td>59.0</td>\n",
       "      <td>06</td>\n",
       "      <td>NaN</td>\n",
       "      <td>NaN</td>\n",
       "      <td>2019</td>\n",
       "      <td>12/22/2019 03:49:01 PM</td>\n",
       "      <td>NaN</td>\n",
       "      <td>NaN</td>\n",
       "      <td>NaN</td>\n",
       "    </tr>\n",
       "    <tr>\n",
       "      <th>7</th>\n",
       "      <td>11922544</td>\n",
       "      <td>JC547944</td>\n",
       "      <td>12/15/2019 08:30:00 AM</td>\n",
       "      <td>042XX W 21ST ST</td>\n",
       "      <td>1320</td>\n",
       "      <td>CRIMINAL DAMAGE</td>\n",
       "      <td>TO VEHICLE</td>\n",
       "      <td>STREET</td>\n",
       "      <td>False</td>\n",
       "      <td>False</td>\n",
       "      <td>...</td>\n",
       "      <td>24.0</td>\n",
       "      <td>29.0</td>\n",
       "      <td>14</td>\n",
       "      <td>1148472.0</td>\n",
       "      <td>1889752.0</td>\n",
       "      <td>2019</td>\n",
       "      <td>12/22/2019 03:49:01 PM</td>\n",
       "      <td>41.853418</td>\n",
       "      <td>-87.730543</td>\n",
       "      <td>(41.853417931, -87.730542708)</td>\n",
       "    </tr>\n",
       "    <tr>\n",
       "      <th>8</th>\n",
       "      <td>11923623</td>\n",
       "      <td>JC549384</td>\n",
       "      <td>12/15/2019 09:00:00 AM</td>\n",
       "      <td>057XX S PAULINA ST</td>\n",
       "      <td>0910</td>\n",
       "      <td>MOTOR VEHICLE THEFT</td>\n",
       "      <td>AUTOMOBILE</td>\n",
       "      <td>RESIDENCE</td>\n",
       "      <td>False</td>\n",
       "      <td>False</td>\n",
       "      <td>...</td>\n",
       "      <td>15.0</td>\n",
       "      <td>67.0</td>\n",
       "      <td>07</td>\n",
       "      <td>1165988.0</td>\n",
       "      <td>1866736.0</td>\n",
       "      <td>2019</td>\n",
       "      <td>12/22/2019 03:49:01 PM</td>\n",
       "      <td>41.789904</td>\n",
       "      <td>-87.666908</td>\n",
       "      <td>(41.789904134, -87.66690798)</td>\n",
       "    </tr>\n",
       "    <tr>\n",
       "      <th>9</th>\n",
       "      <td>11926889</td>\n",
       "      <td>JC553302</td>\n",
       "      <td>12/07/2019 04:00:00 PM</td>\n",
       "      <td>106XX S YATES AVE</td>\n",
       "      <td>0820</td>\n",
       "      <td>THEFT</td>\n",
       "      <td>$500 AND UNDER</td>\n",
       "      <td>APARTMENT</td>\n",
       "      <td>False</td>\n",
       "      <td>False</td>\n",
       "      <td>...</td>\n",
       "      <td>7.0</td>\n",
       "      <td>51.0</td>\n",
       "      <td>06</td>\n",
       "      <td>1194343.0</td>\n",
       "      <td>1834995.0</td>\n",
       "      <td>2019</td>\n",
       "      <td>12/22/2019 03:47:12 PM</td>\n",
       "      <td>41.702154</td>\n",
       "      <td>-87.563980</td>\n",
       "      <td>(41.702154047, -87.563980453)</td>\n",
       "    </tr>\n",
       "  </tbody>\n",
       "</table>\n",
       "<p>10 rows × 22 columns</p>\n",
       "</div>"
      ],
      "text/plain": [
       "         ID Case Number                    Date                  Block  IUCR  \\\n",
       "0  11922265    JC547678  12/15/2019 01:00:00 AM  019XX N MILWAUKEE AVE  0890   \n",
       "1  11922566    JC547878  12/15/2019 02:00:00 PM       001XX W 111TH PL  0486   \n",
       "2  11926493    JC551726  11/14/2019 04:00:00 PM       100XX W OHARE ST  1150   \n",
       "3  11922870    JC548346  12/15/2019 10:16:00 PM    030XX W HARRISON ST  143A   \n",
       "4  11923260    JC548773  12/15/2019 06:04:00 AM  029XX N SPAULDING AVE  1320   \n",
       "5  11923679    JC549341  12/15/2019 02:00:00 AM    080XX S WESTERN AVE  0486   \n",
       "6  11928257    JC555133  12/04/2019 02:00:00 PM    033XX S ASHLAND AVE  0820   \n",
       "7  11922544    JC547944  12/15/2019 08:30:00 AM        042XX W 21ST ST  1320   \n",
       "8  11923623    JC549384  12/15/2019 09:00:00 AM     057XX S PAULINA ST  0910   \n",
       "9  11926889    JC553302  12/07/2019 04:00:00 PM      106XX S YATES AVE  0820   \n",
       "\n",
       "          Primary Type               Description  \\\n",
       "0                THEFT             FROM BUILDING   \n",
       "1              BATTERY   DOMESTIC BATTERY SIMPLE   \n",
       "2   DECEPTIVE PRACTICE         CREDIT CARD FRAUD   \n",
       "3    WEAPONS VIOLATION  UNLAWFUL POSS OF HANDGUN   \n",
       "4      CRIMINAL DAMAGE                TO VEHICLE   \n",
       "5              BATTERY   DOMESTIC BATTERY SIMPLE   \n",
       "6                THEFT            $500 AND UNDER   \n",
       "7      CRIMINAL DAMAGE                TO VEHICLE   \n",
       "8  MOTOR VEHICLE THEFT                AUTOMOBILE   \n",
       "9                THEFT            $500 AND UNDER   \n",
       "\n",
       "                              Location Description  Arrest  Domestic  ...  \\\n",
       "0                          RESIDENCE PORCH/HALLWAY   False     False  ...   \n",
       "1                                        RESIDENCE   False      True  ...   \n",
       "2  AIRPORT BUILDING NON-TERMINAL - NON-SECURE AREA   False     False  ...   \n",
       "3                                           STREET    True     False  ...   \n",
       "4                                           STREET   False     False  ...   \n",
       "5                                            OTHER   False      True  ...   \n",
       "6                                        RESIDENCE   False     False  ...   \n",
       "7                                           STREET   False     False  ...   \n",
       "8                                        RESIDENCE   False     False  ...   \n",
       "9                                        APARTMENT   False     False  ...   \n",
       "\n",
       "   Ward  Community Area  FBI Code  X Coordinate Y Coordinate  Year  \\\n",
       "0  32.0            22.0        06     1160251.0    1912770.0  2019   \n",
       "1  34.0            49.0       08B     1177270.0    1831016.0  2019   \n",
       "2  41.0            76.0        11     1100658.0    1934241.0  2019   \n",
       "3  28.0            27.0        15     1156295.0    1897213.0  2019   \n",
       "4  35.0            21.0        14     1153876.0    1919268.0  2019   \n",
       "5  18.0            70.0       08B     1161778.0    1851102.0  2019   \n",
       "6  12.0            59.0        06           NaN          NaN  2019   \n",
       "7  24.0            29.0        14     1148472.0    1889752.0  2019   \n",
       "8  15.0            67.0        07     1165988.0    1866736.0  2019   \n",
       "9   7.0            51.0        06     1194343.0    1834995.0  2019   \n",
       "\n",
       "               Updated On   Latitude  Longitude                       Location  \n",
       "0  12/22/2019 03:49:01 PM  41.916346 -87.686673  (41.916346321, -87.686672835)  \n",
       "1  12/22/2019 03:49:01 PM  41.691637 -87.626616   (41.691636628, -87.62661592)  \n",
       "2  12/22/2019 03:47:12 PM  41.976290 -87.905227  (41.976290414, -87.905227221)  \n",
       "3  12/22/2019 03:49:01 PM  41.873737 -87.701628  (41.873737423, -87.701627875)  \n",
       "4  12/22/2019 03:49:01 PM  41.934307 -87.709921  (41.934306876, -87.709920843)  \n",
       "5  12/22/2019 03:49:01 PM  41.747091 -87.682778   (41.747090733, -87.68277849)  \n",
       "6  12/22/2019 03:49:01 PM        NaN        NaN                            NaN  \n",
       "7  12/22/2019 03:49:01 PM  41.853418 -87.730543  (41.853417931, -87.730542708)  \n",
       "8  12/22/2019 03:49:01 PM  41.789904 -87.666908   (41.789904134, -87.66690798)  \n",
       "9  12/22/2019 03:47:12 PM  41.702154 -87.563980  (41.702154047, -87.563980453)  \n",
       "\n",
       "[10 rows x 22 columns]"
      ]
     },
     "execution_count": 3,
     "metadata": {},
     "output_type": "execute_result"
    }
   ],
   "source": [
    "crime.head(10)"
   ]
  },
  {
   "cell_type": "code",
   "execution_count": 4,
   "metadata": {},
   "outputs": [
    {
     "data": {
      "text/plain": [
       "array([2019])"
      ]
     },
     "execution_count": 4,
     "metadata": {},
     "output_type": "execute_result"
    }
   ],
   "source": [
    "np.unique(crime['Year'])"
   ]
  },
  {
   "cell_type": "code",
   "execution_count": 5,
   "metadata": {},
   "outputs": [],
   "source": [
    "from matplotlib import pyplot as plt \n",
    "import seaborn as sns"
   ]
  },
  {
   "cell_type": "code",
   "execution_count": 6,
   "metadata": {},
   "outputs": [
    {
     "data": {
      "text/plain": [
       "ID                        int64\n",
       "Case Number              object\n",
       "Date                     object\n",
       "Block                    object\n",
       "IUCR                     object\n",
       "Primary Type             object\n",
       "Description              object\n",
       "Location Description     object\n",
       "Arrest                     bool\n",
       "Domestic                   bool\n",
       "Beat                      int64\n",
       "District                  int64\n",
       "Ward                    float64\n",
       "Community Area          float64\n",
       "FBI Code                 object\n",
       "X Coordinate            float64\n",
       "Y Coordinate            float64\n",
       "Year                      int64\n",
       "Updated On               object\n",
       "Latitude                float64\n",
       "Longitude               float64\n",
       "Location                 object\n",
       "dtype: object"
      ]
     },
     "execution_count": 6,
     "metadata": {},
     "output_type": "execute_result"
    }
   ],
   "source": [
    "crime.dtypes\n"
   ]
  },
  {
   "cell_type": "code",
   "execution_count": 7,
   "metadata": {},
   "outputs": [
    {
     "data": {
      "text/plain": [
       "(246772, 22)"
      ]
     },
     "execution_count": 7,
     "metadata": {},
     "output_type": "execute_result"
    }
   ],
   "source": [
    "crime.shape"
   ]
  },
  {
   "cell_type": "code",
   "execution_count": 8,
   "metadata": {},
   "outputs": [],
   "source": [
    "crime1=pd.read_csv('chicago2018.csv')"
   ]
  },
  {
   "cell_type": "code",
   "execution_count": 9,
   "metadata": {},
   "outputs": [
    {
     "data": {
      "text/plain": [
       "(267701, 22)"
      ]
     },
     "execution_count": 9,
     "metadata": {},
     "output_type": "execute_result"
    }
   ],
   "source": [
    "crime1.shape\n"
   ]
  },
  {
   "cell_type": "code",
   "execution_count": 10,
   "metadata": {},
   "outputs": [
    {
     "data": {
      "text/plain": [
       "ID                        int64\n",
       "Case Number              object\n",
       "Date                     object\n",
       "Block                    object\n",
       "IUCR                     object\n",
       "Primary Type             object\n",
       "Description              object\n",
       "Location Description     object\n",
       "Arrest                     bool\n",
       "Domestic                   bool\n",
       "Beat                      int64\n",
       "District                  int64\n",
       "Ward                    float64\n",
       "Community Area          float64\n",
       "FBI Code                 object\n",
       "X Coordinate            float64\n",
       "Y Coordinate            float64\n",
       "Year                      int64\n",
       "Updated On               object\n",
       "Latitude                float64\n",
       "Longitude               float64\n",
       "Location                 object\n",
       "dtype: object"
      ]
     },
     "execution_count": 10,
     "metadata": {},
     "output_type": "execute_result"
    }
   ],
   "source": [
    "crime1.dtypes\n"
   ]
  },
  {
   "cell_type": "code",
   "execution_count": 11,
   "metadata": {},
   "outputs": [],
   "source": [
    "result=pd.concat([crime,crime1],axis=1)"
   ]
  },
  {
   "cell_type": "code",
   "execution_count": 12,
   "metadata": {},
   "outputs": [
    {
     "data": {
      "text/plain": [
       "(267701, 44)"
      ]
     },
     "execution_count": 12,
     "metadata": {},
     "output_type": "execute_result"
    }
   ],
   "source": [
    "result.shape"
   ]
  },
  {
   "cell_type": "code",
   "execution_count": 13,
   "metadata": {},
   "outputs": [],
   "source": [
    "result1=pd.concat([crime,crime1],axis=0)#to merge two csv files\n"
   ]
  },
  {
   "cell_type": "code",
   "execution_count": 14,
   "metadata": {},
   "outputs": [
    {
     "data": {
      "text/plain": [
       "(514473, 22)"
      ]
     },
     "execution_count": 14,
     "metadata": {},
     "output_type": "execute_result"
    }
   ],
   "source": [
    "result1.shape\n"
   ]
  },
  {
   "cell_type": "code",
   "execution_count": 15,
   "metadata": {},
   "outputs": [
    {
     "data": {
      "text/plain": [
       "ID                         0\n",
       "Case Number                0\n",
       "Date                       0\n",
       "Block                      0\n",
       "IUCR                       0\n",
       "Primary Type               0\n",
       "Description                0\n",
       "Location Description    1852\n",
       "Arrest                     0\n",
       "Domestic                   0\n",
       "Beat                       0\n",
       "District                   0\n",
       "Ward                      18\n",
       "Community Area             6\n",
       "FBI Code                   0\n",
       "X Coordinate            5494\n",
       "Y Coordinate            5494\n",
       "Year                       0\n",
       "Updated On                 0\n",
       "Latitude                5494\n",
       "Longitude               5494\n",
       "Location                5494\n",
       "dtype: int64"
      ]
     },
     "execution_count": 15,
     "metadata": {},
     "output_type": "execute_result"
    }
   ],
   "source": [
    "result1.isnull().sum()#to view null values"
   ]
  },
  {
   "cell_type": "code",
   "execution_count": 16,
   "metadata": {},
   "outputs": [],
   "source": [
    "result1['X Coordinate']=result1['X Coordinate'].fillna(np.mean(result1['X Coordinate']))\n",
    "result1['Y Coordinate']=result1['Y Coordinate'].fillna(np.mean(result1['Y Coordinate']))"
   ]
  },
  {
   "cell_type": "code",
   "execution_count": 17,
   "metadata": {},
   "outputs": [
    {
     "data": {
      "text/plain": [
       "ID                         0\n",
       "Case Number                0\n",
       "Date                       0\n",
       "Block                      0\n",
       "IUCR                       0\n",
       "Primary Type               0\n",
       "Description                0\n",
       "Location Description    1852\n",
       "Arrest                     0\n",
       "Domestic                   0\n",
       "Beat                       0\n",
       "District                   0\n",
       "Ward                      18\n",
       "Community Area             6\n",
       "FBI Code                   0\n",
       "X Coordinate               0\n",
       "Y Coordinate               0\n",
       "Year                       0\n",
       "Updated On                 0\n",
       "Latitude                5494\n",
       "Longitude               5494\n",
       "Location                5494\n",
       "dtype: int64"
      ]
     },
     "execution_count": 17,
     "metadata": {},
     "output_type": "execute_result"
    }
   ],
   "source": [
    "result1.isnull().sum()"
   ]
  },
  {
   "cell_type": "code",
   "execution_count": null,
   "metadata": {},
   "outputs": [],
   "source": []
  },
  {
   "cell_type": "code",
   "execution_count": 18,
   "metadata": {},
   "outputs": [],
   "source": [
    "result1.dropna(inplace=True)#removing null values "
   ]
  },
  {
   "cell_type": "code",
   "execution_count": 19,
   "metadata": {},
   "outputs": [
    {
     "data": {
      "text/plain": [
       "(507505, 22)"
      ]
     },
     "execution_count": 19,
     "metadata": {},
     "output_type": "execute_result"
    }
   ],
   "source": [
    "result1.shape"
   ]
  },
  {
   "cell_type": "code",
   "execution_count": 20,
   "metadata": {},
   "outputs": [],
   "source": [
    "from sklearn import preprocessing as pre\n"
   ]
  },
  {
   "cell_type": "code",
   "execution_count": 21,
   "metadata": {},
   "outputs": [],
   "source": [
    "label_encoder=pre.LabelEncoder()"
   ]
  },
  {
   "cell_type": "code",
   "execution_count": 22,
   "metadata": {},
   "outputs": [],
   "source": [
    "result1['Arrest']=label_encoder.fit_transform(result1['Arrest'])"
   ]
  },
  {
   "cell_type": "code",
   "execution_count": 23,
   "metadata": {},
   "outputs": [],
   "source": [
    "result1['Domestic']=label_encoder.fit_transform(result1['Domestic'])"
   ]
  },
  {
   "cell_type": "code",
   "execution_count": 24,
   "metadata": {},
   "outputs": [
    {
     "data": {
      "text/plain": [
       "array([0, 1])"
      ]
     },
     "execution_count": 24,
     "metadata": {},
     "output_type": "execute_result"
    }
   ],
   "source": [
    "result1['Domestic'].unique()"
   ]
  },
  {
   "cell_type": "code",
   "execution_count": 25,
   "metadata": {},
   "outputs": [],
   "source": [
    "BBox=((result1.Longitude.min(),result1.Longitude.max(),result1.Latitude.min(),result1.Latitude.max()))"
   ]
  },
  {
   "cell_type": "code",
   "execution_count": 26,
   "metadata": {},
   "outputs": [
    {
     "data": {
      "text/html": [
       "<div>\n",
       "<style scoped>\n",
       "    .dataframe tbody tr th:only-of-type {\n",
       "        vertical-align: middle;\n",
       "    }\n",
       "\n",
       "    .dataframe tbody tr th {\n",
       "        vertical-align: top;\n",
       "    }\n",
       "\n",
       "    .dataframe thead th {\n",
       "        text-align: right;\n",
       "    }\n",
       "</style>\n",
       "<table border=\"1\" class=\"dataframe\">\n",
       "  <thead>\n",
       "    <tr style=\"text-align: right;\">\n",
       "      <th></th>\n",
       "      <th>ID</th>\n",
       "      <th>Case Number</th>\n",
       "      <th>Date</th>\n",
       "      <th>Block</th>\n",
       "      <th>IUCR</th>\n",
       "      <th>Primary Type</th>\n",
       "      <th>Description</th>\n",
       "      <th>Location Description</th>\n",
       "      <th>Arrest</th>\n",
       "      <th>Domestic</th>\n",
       "      <th>...</th>\n",
       "      <th>Ward</th>\n",
       "      <th>Community Area</th>\n",
       "      <th>FBI Code</th>\n",
       "      <th>X Coordinate</th>\n",
       "      <th>Y Coordinate</th>\n",
       "      <th>Year</th>\n",
       "      <th>Updated On</th>\n",
       "      <th>Latitude</th>\n",
       "      <th>Longitude</th>\n",
       "      <th>Location</th>\n",
       "    </tr>\n",
       "  </thead>\n",
       "  <tbody>\n",
       "    <tr>\n",
       "      <th>0</th>\n",
       "      <td>11922265</td>\n",
       "      <td>JC547678</td>\n",
       "      <td>12/15/2019 01:00:00 AM</td>\n",
       "      <td>019XX N MILWAUKEE AVE</td>\n",
       "      <td>0890</td>\n",
       "      <td>THEFT</td>\n",
       "      <td>FROM BUILDING</td>\n",
       "      <td>RESIDENCE PORCH/HALLWAY</td>\n",
       "      <td>0</td>\n",
       "      <td>0</td>\n",
       "      <td>...</td>\n",
       "      <td>32.0</td>\n",
       "      <td>22.0</td>\n",
       "      <td>06</td>\n",
       "      <td>1160251.0</td>\n",
       "      <td>1912770.0</td>\n",
       "      <td>2019</td>\n",
       "      <td>12/22/2019 03:49:01 PM</td>\n",
       "      <td>41.916346</td>\n",
       "      <td>-87.686673</td>\n",
       "      <td>(41.916346321, -87.686672835)</td>\n",
       "    </tr>\n",
       "    <tr>\n",
       "      <th>1</th>\n",
       "      <td>11922566</td>\n",
       "      <td>JC547878</td>\n",
       "      <td>12/15/2019 02:00:00 PM</td>\n",
       "      <td>001XX W 111TH PL</td>\n",
       "      <td>0486</td>\n",
       "      <td>BATTERY</td>\n",
       "      <td>DOMESTIC BATTERY SIMPLE</td>\n",
       "      <td>RESIDENCE</td>\n",
       "      <td>0</td>\n",
       "      <td>1</td>\n",
       "      <td>...</td>\n",
       "      <td>34.0</td>\n",
       "      <td>49.0</td>\n",
       "      <td>08B</td>\n",
       "      <td>1177270.0</td>\n",
       "      <td>1831016.0</td>\n",
       "      <td>2019</td>\n",
       "      <td>12/22/2019 03:49:01 PM</td>\n",
       "      <td>41.691637</td>\n",
       "      <td>-87.626616</td>\n",
       "      <td>(41.691636628, -87.62661592)</td>\n",
       "    </tr>\n",
       "    <tr>\n",
       "      <th>2</th>\n",
       "      <td>11926493</td>\n",
       "      <td>JC551726</td>\n",
       "      <td>11/14/2019 04:00:00 PM</td>\n",
       "      <td>100XX W OHARE ST</td>\n",
       "      <td>1150</td>\n",
       "      <td>DECEPTIVE PRACTICE</td>\n",
       "      <td>CREDIT CARD FRAUD</td>\n",
       "      <td>AIRPORT BUILDING NON-TERMINAL - NON-SECURE AREA</td>\n",
       "      <td>0</td>\n",
       "      <td>0</td>\n",
       "      <td>...</td>\n",
       "      <td>41.0</td>\n",
       "      <td>76.0</td>\n",
       "      <td>11</td>\n",
       "      <td>1100658.0</td>\n",
       "      <td>1934241.0</td>\n",
       "      <td>2019</td>\n",
       "      <td>12/22/2019 03:47:12 PM</td>\n",
       "      <td>41.976290</td>\n",
       "      <td>-87.905227</td>\n",
       "      <td>(41.976290414, -87.905227221)</td>\n",
       "    </tr>\n",
       "    <tr>\n",
       "      <th>3</th>\n",
       "      <td>11922870</td>\n",
       "      <td>JC548346</td>\n",
       "      <td>12/15/2019 10:16:00 PM</td>\n",
       "      <td>030XX W HARRISON ST</td>\n",
       "      <td>143A</td>\n",
       "      <td>WEAPONS VIOLATION</td>\n",
       "      <td>UNLAWFUL POSS OF HANDGUN</td>\n",
       "      <td>STREET</td>\n",
       "      <td>1</td>\n",
       "      <td>0</td>\n",
       "      <td>...</td>\n",
       "      <td>28.0</td>\n",
       "      <td>27.0</td>\n",
       "      <td>15</td>\n",
       "      <td>1156295.0</td>\n",
       "      <td>1897213.0</td>\n",
       "      <td>2019</td>\n",
       "      <td>12/22/2019 03:49:01 PM</td>\n",
       "      <td>41.873737</td>\n",
       "      <td>-87.701628</td>\n",
       "      <td>(41.873737423, -87.701627875)</td>\n",
       "    </tr>\n",
       "    <tr>\n",
       "      <th>4</th>\n",
       "      <td>11923260</td>\n",
       "      <td>JC548773</td>\n",
       "      <td>12/15/2019 06:04:00 AM</td>\n",
       "      <td>029XX N SPAULDING AVE</td>\n",
       "      <td>1320</td>\n",
       "      <td>CRIMINAL DAMAGE</td>\n",
       "      <td>TO VEHICLE</td>\n",
       "      <td>STREET</td>\n",
       "      <td>0</td>\n",
       "      <td>0</td>\n",
       "      <td>...</td>\n",
       "      <td>35.0</td>\n",
       "      <td>21.0</td>\n",
       "      <td>14</td>\n",
       "      <td>1153876.0</td>\n",
       "      <td>1919268.0</td>\n",
       "      <td>2019</td>\n",
       "      <td>12/22/2019 03:49:01 PM</td>\n",
       "      <td>41.934307</td>\n",
       "      <td>-87.709921</td>\n",
       "      <td>(41.934306876, -87.709920843)</td>\n",
       "    </tr>\n",
       "    <tr>\n",
       "      <th>5</th>\n",
       "      <td>11923679</td>\n",
       "      <td>JC549341</td>\n",
       "      <td>12/15/2019 02:00:00 AM</td>\n",
       "      <td>080XX S WESTERN AVE</td>\n",
       "      <td>0486</td>\n",
       "      <td>BATTERY</td>\n",
       "      <td>DOMESTIC BATTERY SIMPLE</td>\n",
       "      <td>OTHER</td>\n",
       "      <td>0</td>\n",
       "      <td>1</td>\n",
       "      <td>...</td>\n",
       "      <td>18.0</td>\n",
       "      <td>70.0</td>\n",
       "      <td>08B</td>\n",
       "      <td>1161778.0</td>\n",
       "      <td>1851102.0</td>\n",
       "      <td>2019</td>\n",
       "      <td>12/22/2019 03:49:01 PM</td>\n",
       "      <td>41.747091</td>\n",
       "      <td>-87.682778</td>\n",
       "      <td>(41.747090733, -87.68277849)</td>\n",
       "    </tr>\n",
       "    <tr>\n",
       "      <th>7</th>\n",
       "      <td>11922544</td>\n",
       "      <td>JC547944</td>\n",
       "      <td>12/15/2019 08:30:00 AM</td>\n",
       "      <td>042XX W 21ST ST</td>\n",
       "      <td>1320</td>\n",
       "      <td>CRIMINAL DAMAGE</td>\n",
       "      <td>TO VEHICLE</td>\n",
       "      <td>STREET</td>\n",
       "      <td>0</td>\n",
       "      <td>0</td>\n",
       "      <td>...</td>\n",
       "      <td>24.0</td>\n",
       "      <td>29.0</td>\n",
       "      <td>14</td>\n",
       "      <td>1148472.0</td>\n",
       "      <td>1889752.0</td>\n",
       "      <td>2019</td>\n",
       "      <td>12/22/2019 03:49:01 PM</td>\n",
       "      <td>41.853418</td>\n",
       "      <td>-87.730543</td>\n",
       "      <td>(41.853417931, -87.730542708)</td>\n",
       "    </tr>\n",
       "    <tr>\n",
       "      <th>8</th>\n",
       "      <td>11923623</td>\n",
       "      <td>JC549384</td>\n",
       "      <td>12/15/2019 09:00:00 AM</td>\n",
       "      <td>057XX S PAULINA ST</td>\n",
       "      <td>0910</td>\n",
       "      <td>MOTOR VEHICLE THEFT</td>\n",
       "      <td>AUTOMOBILE</td>\n",
       "      <td>RESIDENCE</td>\n",
       "      <td>0</td>\n",
       "      <td>0</td>\n",
       "      <td>...</td>\n",
       "      <td>15.0</td>\n",
       "      <td>67.0</td>\n",
       "      <td>07</td>\n",
       "      <td>1165988.0</td>\n",
       "      <td>1866736.0</td>\n",
       "      <td>2019</td>\n",
       "      <td>12/22/2019 03:49:01 PM</td>\n",
       "      <td>41.789904</td>\n",
       "      <td>-87.666908</td>\n",
       "      <td>(41.789904134, -87.66690798)</td>\n",
       "    </tr>\n",
       "    <tr>\n",
       "      <th>9</th>\n",
       "      <td>11926889</td>\n",
       "      <td>JC553302</td>\n",
       "      <td>12/07/2019 04:00:00 PM</td>\n",
       "      <td>106XX S YATES AVE</td>\n",
       "      <td>0820</td>\n",
       "      <td>THEFT</td>\n",
       "      <td>$500 AND UNDER</td>\n",
       "      <td>APARTMENT</td>\n",
       "      <td>0</td>\n",
       "      <td>0</td>\n",
       "      <td>...</td>\n",
       "      <td>7.0</td>\n",
       "      <td>51.0</td>\n",
       "      <td>06</td>\n",
       "      <td>1194343.0</td>\n",
       "      <td>1834995.0</td>\n",
       "      <td>2019</td>\n",
       "      <td>12/22/2019 03:47:12 PM</td>\n",
       "      <td>41.702154</td>\n",
       "      <td>-87.563980</td>\n",
       "      <td>(41.702154047, -87.563980453)</td>\n",
       "    </tr>\n",
       "    <tr>\n",
       "      <th>11</th>\n",
       "      <td>11925312</td>\n",
       "      <td>JC551194</td>\n",
       "      <td>12/15/2019 10:22:00 AM</td>\n",
       "      <td>051XX S MICHIGAN AVE</td>\n",
       "      <td>1320</td>\n",
       "      <td>CRIMINAL DAMAGE</td>\n",
       "      <td>TO VEHICLE</td>\n",
       "      <td>APARTMENT</td>\n",
       "      <td>0</td>\n",
       "      <td>1</td>\n",
       "      <td>...</td>\n",
       "      <td>3.0</td>\n",
       "      <td>40.0</td>\n",
       "      <td>14</td>\n",
       "      <td>1178031.0</td>\n",
       "      <td>1870873.0</td>\n",
       "      <td>2019</td>\n",
       "      <td>12/22/2019 03:49:01 PM</td>\n",
       "      <td>41.800992</td>\n",
       "      <td>-87.622625</td>\n",
       "      <td>(41.800991803, -87.622624586)</td>\n",
       "    </tr>\n",
       "  </tbody>\n",
       "</table>\n",
       "<p>10 rows × 22 columns</p>\n",
       "</div>"
      ],
      "text/plain": [
       "          ID Case Number                    Date                  Block  IUCR  \\\n",
       "0   11922265    JC547678  12/15/2019 01:00:00 AM  019XX N MILWAUKEE AVE  0890   \n",
       "1   11922566    JC547878  12/15/2019 02:00:00 PM       001XX W 111TH PL  0486   \n",
       "2   11926493    JC551726  11/14/2019 04:00:00 PM       100XX W OHARE ST  1150   \n",
       "3   11922870    JC548346  12/15/2019 10:16:00 PM    030XX W HARRISON ST  143A   \n",
       "4   11923260    JC548773  12/15/2019 06:04:00 AM  029XX N SPAULDING AVE  1320   \n",
       "5   11923679    JC549341  12/15/2019 02:00:00 AM    080XX S WESTERN AVE  0486   \n",
       "7   11922544    JC547944  12/15/2019 08:30:00 AM        042XX W 21ST ST  1320   \n",
       "8   11923623    JC549384  12/15/2019 09:00:00 AM     057XX S PAULINA ST  0910   \n",
       "9   11926889    JC553302  12/07/2019 04:00:00 PM      106XX S YATES AVE  0820   \n",
       "11  11925312    JC551194  12/15/2019 10:22:00 AM   051XX S MICHIGAN AVE  1320   \n",
       "\n",
       "           Primary Type               Description  \\\n",
       "0                 THEFT             FROM BUILDING   \n",
       "1               BATTERY   DOMESTIC BATTERY SIMPLE   \n",
       "2    DECEPTIVE PRACTICE         CREDIT CARD FRAUD   \n",
       "3     WEAPONS VIOLATION  UNLAWFUL POSS OF HANDGUN   \n",
       "4       CRIMINAL DAMAGE                TO VEHICLE   \n",
       "5               BATTERY   DOMESTIC BATTERY SIMPLE   \n",
       "7       CRIMINAL DAMAGE                TO VEHICLE   \n",
       "8   MOTOR VEHICLE THEFT                AUTOMOBILE   \n",
       "9                 THEFT            $500 AND UNDER   \n",
       "11      CRIMINAL DAMAGE                TO VEHICLE   \n",
       "\n",
       "                               Location Description  Arrest  Domestic  ...  \\\n",
       "0                           RESIDENCE PORCH/HALLWAY       0         0  ...   \n",
       "1                                         RESIDENCE       0         1  ...   \n",
       "2   AIRPORT BUILDING NON-TERMINAL - NON-SECURE AREA       0         0  ...   \n",
       "3                                            STREET       1         0  ...   \n",
       "4                                            STREET       0         0  ...   \n",
       "5                                             OTHER       0         1  ...   \n",
       "7                                            STREET       0         0  ...   \n",
       "8                                         RESIDENCE       0         0  ...   \n",
       "9                                         APARTMENT       0         0  ...   \n",
       "11                                        APARTMENT       0         1  ...   \n",
       "\n",
       "    Ward  Community Area  FBI Code  X Coordinate Y Coordinate  Year  \\\n",
       "0   32.0            22.0        06     1160251.0    1912770.0  2019   \n",
       "1   34.0            49.0       08B     1177270.0    1831016.0  2019   \n",
       "2   41.0            76.0        11     1100658.0    1934241.0  2019   \n",
       "3   28.0            27.0        15     1156295.0    1897213.0  2019   \n",
       "4   35.0            21.0        14     1153876.0    1919268.0  2019   \n",
       "5   18.0            70.0       08B     1161778.0    1851102.0  2019   \n",
       "7   24.0            29.0        14     1148472.0    1889752.0  2019   \n",
       "8   15.0            67.0        07     1165988.0    1866736.0  2019   \n",
       "9    7.0            51.0        06     1194343.0    1834995.0  2019   \n",
       "11   3.0            40.0        14     1178031.0    1870873.0  2019   \n",
       "\n",
       "                Updated On   Latitude  Longitude  \\\n",
       "0   12/22/2019 03:49:01 PM  41.916346 -87.686673   \n",
       "1   12/22/2019 03:49:01 PM  41.691637 -87.626616   \n",
       "2   12/22/2019 03:47:12 PM  41.976290 -87.905227   \n",
       "3   12/22/2019 03:49:01 PM  41.873737 -87.701628   \n",
       "4   12/22/2019 03:49:01 PM  41.934307 -87.709921   \n",
       "5   12/22/2019 03:49:01 PM  41.747091 -87.682778   \n",
       "7   12/22/2019 03:49:01 PM  41.853418 -87.730543   \n",
       "8   12/22/2019 03:49:01 PM  41.789904 -87.666908   \n",
       "9   12/22/2019 03:47:12 PM  41.702154 -87.563980   \n",
       "11  12/22/2019 03:49:01 PM  41.800992 -87.622625   \n",
       "\n",
       "                         Location  \n",
       "0   (41.916346321, -87.686672835)  \n",
       "1    (41.691636628, -87.62661592)  \n",
       "2   (41.976290414, -87.905227221)  \n",
       "3   (41.873737423, -87.701627875)  \n",
       "4   (41.934306876, -87.709920843)  \n",
       "5    (41.747090733, -87.68277849)  \n",
       "7   (41.853417931, -87.730542708)  \n",
       "8    (41.789904134, -87.66690798)  \n",
       "9   (41.702154047, -87.563980453)  \n",
       "11  (41.800991803, -87.622624586)  \n",
       "\n",
       "[10 rows x 22 columns]"
      ]
     },
     "execution_count": 26,
     "metadata": {},
     "output_type": "execute_result"
    }
   ],
   "source": [
    "result1.head(10)"
   ]
  },
  {
   "cell_type": "code",
   "execution_count": 27,
   "metadata": {},
   "outputs": [],
   "source": [
    "from sklearn.cluster import KMeans\n",
    "import seaborn as sns"
   ]
  },
  {
   "cell_type": "code",
   "execution_count": 28,
   "metadata": {},
   "outputs": [
    {
     "data": {
      "text/html": [
       "<div>\n",
       "<style scoped>\n",
       "    .dataframe tbody tr th:only-of-type {\n",
       "        vertical-align: middle;\n",
       "    }\n",
       "\n",
       "    .dataframe tbody tr th {\n",
       "        vertical-align: top;\n",
       "    }\n",
       "\n",
       "    .dataframe thead th {\n",
       "        text-align: right;\n",
       "    }\n",
       "</style>\n",
       "<table border=\"1\" class=\"dataframe\">\n",
       "  <thead>\n",
       "    <tr style=\"text-align: right;\">\n",
       "      <th></th>\n",
       "      <th>ID</th>\n",
       "      <th>Latitude</th>\n",
       "      <th>Longitude</th>\n",
       "    </tr>\n",
       "  </thead>\n",
       "  <tbody>\n",
       "    <tr>\n",
       "      <th>0</th>\n",
       "      <td>11922265</td>\n",
       "      <td>41.916346</td>\n",
       "      <td>-87.686673</td>\n",
       "    </tr>\n",
       "    <tr>\n",
       "      <th>1</th>\n",
       "      <td>11922566</td>\n",
       "      <td>41.691637</td>\n",
       "      <td>-87.626616</td>\n",
       "    </tr>\n",
       "    <tr>\n",
       "      <th>2</th>\n",
       "      <td>11926493</td>\n",
       "      <td>41.976290</td>\n",
       "      <td>-87.905227</td>\n",
       "    </tr>\n",
       "    <tr>\n",
       "      <th>3</th>\n",
       "      <td>11922870</td>\n",
       "      <td>41.873737</td>\n",
       "      <td>-87.701628</td>\n",
       "    </tr>\n",
       "    <tr>\n",
       "      <th>4</th>\n",
       "      <td>11923260</td>\n",
       "      <td>41.934307</td>\n",
       "      <td>-87.709921</td>\n",
       "    </tr>\n",
       "    <tr>\n",
       "      <th>5</th>\n",
       "      <td>11923679</td>\n",
       "      <td>41.747091</td>\n",
       "      <td>-87.682778</td>\n",
       "    </tr>\n",
       "    <tr>\n",
       "      <th>7</th>\n",
       "      <td>11922544</td>\n",
       "      <td>41.853418</td>\n",
       "      <td>-87.730543</td>\n",
       "    </tr>\n",
       "    <tr>\n",
       "      <th>8</th>\n",
       "      <td>11923623</td>\n",
       "      <td>41.789904</td>\n",
       "      <td>-87.666908</td>\n",
       "    </tr>\n",
       "    <tr>\n",
       "      <th>9</th>\n",
       "      <td>11926889</td>\n",
       "      <td>41.702154</td>\n",
       "      <td>-87.563980</td>\n",
       "    </tr>\n",
       "    <tr>\n",
       "      <th>11</th>\n",
       "      <td>11925312</td>\n",
       "      <td>41.800992</td>\n",
       "      <td>-87.622625</td>\n",
       "    </tr>\n",
       "  </tbody>\n",
       "</table>\n",
       "</div>"
      ],
      "text/plain": [
       "          ID   Latitude  Longitude\n",
       "0   11922265  41.916346 -87.686673\n",
       "1   11922566  41.691637 -87.626616\n",
       "2   11926493  41.976290 -87.905227\n",
       "3   11922870  41.873737 -87.701628\n",
       "4   11923260  41.934307 -87.709921\n",
       "5   11923679  41.747091 -87.682778\n",
       "7   11922544  41.853418 -87.730543\n",
       "8   11923623  41.789904 -87.666908\n",
       "9   11926889  41.702154 -87.563980\n",
       "11  11925312  41.800992 -87.622625"
      ]
     },
     "execution_count": 28,
     "metadata": {},
     "output_type": "execute_result"
    }
   ],
   "source": [
    "x=result1.loc[:,['ID','Latitude','Longitude']]\n",
    "x.head(10)\n"
   ]
  },
  {
   "cell_type": "code",
   "execution_count": 29,
   "metadata": {},
   "outputs": [
    {
     "data": {
      "image/png": "[encoded data removed]",
      "text/plain": [
       "<Figure size 432x288 with 1 Axes>"
      ]
     },
     "metadata": {
      "needs_background": "light"
     },
     "output_type": "display_data"
    }
   ],
   "source": [
    "K_clusters = range(1,10)\n",
    "kmeans = [KMeans(n_clusters=i) for i in K_clusters]\n",
    "Y_axis = result1[['Latitude']]\n",
    "X_axis = result1[['Longitude']]\n",
    "score = [kmeans[i].fit(Y_axis).score(Y_axis)\n",
    "         for i in range(len(kmeans))]# Visualize\n",
    "plt.plot(K_clusters, score)\n",
    "plt.xlabel('Number of Clusters')\n",
    "plt.ylabel('Score')\n",
    "plt.title('Elbow Curve')\n",
    "plt.show()"
   ]
  },
  {
   "cell_type": "code",
   "execution_count": 30,
   "metadata": {},
   "outputs": [
    {
     "data": {
      "text/plain": [
       "(-91.686565684, -87.524529378, 36.619446395, 42.022671246)"
      ]
     },
     "execution_count": 30,
     "metadata": {},
     "output_type": "execute_result"
    }
   ],
   "source": [
    "BBox"
   ]
  },
  {
   "cell_type": "code",
   "execution_count": 31,
   "metadata": {},
   "outputs": [
    {
     "data": {
      "text/plain": [
       "(507505, 3)"
      ]
     },
     "execution_count": 31,
     "metadata": {},
     "output_type": "execute_result"
    }
   ],
   "source": [
    "x.shape"
   ]
  },
  {
   "cell_type": "code",
   "execution_count": 32,
   "metadata": {},
   "outputs": [],
   "source": [
    "x=result1.loc[:,['ID','Latitude','Longitude']]"
   ]
  },
  {
   "cell_type": "code",
   "execution_count": 33,
   "metadata": {},
   "outputs": [],
   "source": [
    "y=x\n"
   ]
  },
  {
   "cell_type": "code",
   "execution_count": 34,
   "metadata": {},
   "outputs": [],
   "source": [
    "y.drop(y[y['Longitude']<-87.9977].index,inplace=True,axis=0)\n",
    "y.drop(y[y['Longitude']>-87.5336].index,inplace=True,axis=0)\n",
    "y.drop(y[y['Latitude']<41.5600].index,inplace=True,axis=0)\n",
    "y.drop(y[y['Latitude']>42.1860].index,inplace=True,axis=0)"
   ]
  },
  {
   "cell_type": "code",
   "execution_count": null,
   "metadata": {},
   "outputs": [],
   "source": []
  },
  {
   "cell_type": "code",
   "execution_count": 35,
   "metadata": {},
   "outputs": [],
   "source": [
    "x=y"
   ]
  },
  {
   "cell_type": "code",
   "execution_count": 36,
   "metadata": {},
   "outputs": [
    {
     "data": {
      "text/plain": [
       "<matplotlib.collections.PathCollection at 0x7fd9a2daac50>"
      ]
     },
     "execution_count": 36,
     "metadata": {},
     "output_type": "execute_result"
    },
    {
     "data": {
      "image/png": "[encoded data removed]",
      "text/plain": [
       "<Figure size 432x288 with 2 Axes>"
      ]
     },
     "metadata": {
      "needs_background": "light"
     },
     "output_type": "display_data"
    }
   ],
   "source": [
    "def ploting(x)\n",
    "    kmeans = KMeans(n_clusters = 10, init ='k-means++')\n",
    "    kmeans.fit(x[x.columns[1:3]]) # Compute k-means clustering.\n",
    "    x['cluster_label'] = kmeans.fit_predict(x[x.columns[1:3]])\n",
    "    centers = kmeans.cluster_centers_ # Coordinates of cluster centers.\n",
    "    labels = kmeans.predict(x[x.columns[1:3]]) # Labels of each point\n",
    "    x.head(10)\n",
    "    x.plot.scatter(x = 'Latitude', y = 'Longitude', c=labels, s=50, cmap='viridis')\n",
    "    plt.scatter(centers[:, 0], centers[:, 1], c='black', s=200, alpha=0.5)\n",
    "ploting(x)\n",
    "\n",
    "\n",
    "\n"
   ]
  },
  {
   "cell_type": "code",
   "execution_count": 37,
   "metadata": {},
   "outputs": [],
   "source": [
    "xBBox=((x.Longitude.min(),x.Longitude.max(),x.Latitude.min(),x.Latitude.max()))"
   ]
  },
  {
   "cell_type": "code",
   "execution_count": 38,
   "metadata": {},
   "outputs": [
    {
     "data": {
      "text/plain": [
       "(-87.934567226, -87.533627024, 41.644589713, 42.022671246)"
      ]
     },
     "execution_count": 38,
     "metadata": {},
     "output_type": "execute_result"
    }
   ],
   "source": [
    "xBBox"
   ]
  },
  {
   "cell_type": "code",
   "execution_count": 43,
   "metadata": {},
   "outputs": [],
   "source": [
    "import math\n",
    "def location(f,l,r):\n",
    "    df = r/69        #North-south distance in degrees\n",
    "    dl = df / math.cos(f) # East-west distance in degrees \n",
    "   # x1,x2,y1,y2=0.0 #r means radius in miles\n",
    "    x1=f - df\n",
    "    x2=f + df\n",
    "    y1=l - dl\n",
    "    y2=l + dl\n",
    "    coordinates=(x1,x2,y1,y2)\n",
    "    return coordinates\n",
    "    #{(f-df,l-dl), (f+df,l-dl), (f+df,l+dl), (f-df,l+dl)} #List of vertices\n",
    "    '''df = 10/69 = 0.145\n",
    "    dl = 0.145 / cos(50 degrees) = 0.145 / 0.6428 = 0.225\n",
    "    f - df = 50 - 0.145 = 49.855 #(southernmost latitude)\n",
    "    f + df = 50 + 0.145 = 50.145 #(northernmost latitude)\n",
    "    l - dl = -1 - 0.225 = -1.225 #(western longitude)\n",
    "    l + dl = -1 + 0.225 = -0.775 #(eastern longitude)'''"
   ]
  },
  {
   "cell_type": "code",
   "execution_count": 44,
   "metadata": {},
   "outputs": [],
   "source": [
    "ab=location(41.916346,-87.686673,10)"
   ]
  },
  {
   "cell_type": "code",
   "execution_count": 45,
   "metadata": {},
   "outputs": [
    {
     "data": {
      "text/plain": [
       "(41.771418463768114, 42.06127353623188, -87.38167019848244, -87.99167580151756)"
      ]
     },
     "execution_count": 45,
     "metadata": {},
     "output_type": "execute_result"
    }
   ],
   "source": [
    "ab"
   ]
  },
  {
   "cell_type": "code",
   "execution_count": null,
   "metadata": {},
   "outputs": [],
   "source": []
  }
 ],
 "metadata": {
  "kernelspec": {
   "display_name": "Python 3",
   "language": "python",
   "name": "python3"
  },
  "language_info": {
   "codemirror_mode": {
    "name": "ipython",
    "version": 3
   },
   "file_extension": ".py",
   "mimetype": "text/x-python",
   "name": "python",
   "nbconvert_exporter": "python",
   "pygments_lexer": "ipython3",
   "version": "3.7.3"
  }
 },
 "nbformat": 4,
 "nbformat_minor": 2
}
